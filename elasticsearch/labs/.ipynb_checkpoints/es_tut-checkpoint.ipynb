{
 "cells": [
  {
   "cell_type": "code",
   "execution_count": 4,
   "metadata": {
    "collapsed": true
   },
   "outputs": [],
   "source": [
    "from __future__ import print_function\n",
    "import sys\n",
    "import re\n",
    "import requests\n",
    "\n",
    "base_url = 'http://es1.elasticsearch.vn:9200/'\n",
    "\n",
    "def put(index, type, id, body):\n",
    "    return requests.put(base_url + index + '/' + type + '/' + str(id), data=body)\n",
    "\n"
   ]
  },
  {
   "cell_type": "code",
   "execution_count": 5,
   "metadata": {
    "collapsed": false
   },
   "outputs": [
    {
     "name": "stdout",
     "output_type": "stream",
     "text": [
      "{u'status': 400, u'error': {u'caused_by': {u'reason': u'Compressor detection can only be called on some xcontent bytes or compressed xcontent bytes', u'type': u'not_x_content_exception'}, u'root_cause': [{u'reason': u'failed to parse', u'type': u'mapper_parsing_exception'}], u'type': u'mapper_parsing_exception', u'reason': u'failed to parse'}}\n"
     ]
    }
   ],
   "source": [
    "body = {\n",
    "  'about': 'I love to go rock climbing',\n",
    "  'age': 25,\n",
    "  'first_name': 'John',\n",
    "  'interests': [\n",
    "    'sports',\n",
    "    'music'\n",
    "  ],\n",
    "  'last_name': 'Smith'\n",
    "}\n",
    "\n",
    "r = put('megacorp', 'employee', 2, body)\n",
    "print(r.json())"
   ]
  }
 ],
 "metadata": {
  "kernelspec": {
   "display_name": "Python 2",
   "language": "python",
   "name": "python2"
  },
  "language_info": {
   "codemirror_mode": {
    "name": "ipython",
    "version": 2
   },
   "file_extension": ".py",
   "mimetype": "text/x-python",
   "name": "python",
   "nbconvert_exporter": "python",
   "pygments_lexer": "ipython2",
   "version": "2.7.10"
  }
 },
 "nbformat": 4,
 "nbformat_minor": 1
}
