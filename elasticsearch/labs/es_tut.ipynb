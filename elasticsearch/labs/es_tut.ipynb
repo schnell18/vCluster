{
 "cells": [
  {
   "cell_type": "code",
   "execution_count": 8,
   "metadata": {
    "collapsed": true
   },
   "outputs": [],
   "source": [
    "from __future__ import print_function\n",
    "import sys\n",
    "import re\n",
    "import requests\n",
    "\n",
    "base_url = 'http://es1.elasticsearch.vn:9200/'\n",
    "\n",
    "def put(index, type, id, body):\n",
    "    return requests.put(base_url + index + '/' + type + '/' + str(id), data=body)\n",
    "\n",
    "def get(path):\n",
    "    return requests.get(base_url + path)"
   ]
  },
  {
   "cell_type": "code",
   "execution_count": 6,
   "metadata": {
    "collapsed": false
   },
   "outputs": [
    {
     "name": "stdout",
     "output_type": "stream",
     "text": [
      "{u'status': 400, u'error': {u'caused_by': {u'reason': u'Compressor detection can only be called on some xcontent bytes or compressed xcontent bytes', u'type': u'not_x_content_exception'}, u'root_cause': [{u'reason': u'failed to parse', u'type': u'mapper_parsing_exception'}], u'type': u'mapper_parsing_exception', u'reason': u'failed to parse'}}\n"
     ]
    }
   ],
   "source": [
    "body = {\n",
    "  'about': 'I love to go rock climbing',\n",
    "  'age': 25,\n",
    "  'first_name': 'John',\n",
    "  'interests': [\n",
    "    'sports',\n",
    "    'music'\n",
    "  ],\n",
    "  'last_name': 'Smith'\n",
    "}\n",
    "\n",
    "r = put('megacorp', 'employee', 2, body)\n",
    "print(r.json())"
   ]
  },
  {
   "cell_type": "code",
   "execution_count": 10,
   "metadata": {
    "collapsed": false,
    "scrolled": true
   },
   "outputs": [
    {
     "name": "stdout",
     "output_type": "stream",
     "text": [
      "{u'status': u'yellow', u'number_of_nodes': 1, u'unassigned_shards': 5, u'number_of_pending_tasks': 0, u'number_of_in_flight_fetch': 0, u'timed_out': False, u'active_primary_shards': 5, u'task_max_waiting_in_queue_millis': 0, u'cluster_name': u'esbootcamp', u'relocating_shards': 0, u'active_shards_percent_as_number': 50.0, u'active_shards': 5, u'initializing_shards': 0, u'number_of_data_nodes': 1, u'delayed_unassigned_shards': 0}\n"
     ]
    }
   ],
   "source": [
    "r = get('_cluster/health')\n",
    "print(r.json())"
   ]
  }
 ],
 "metadata": {
  "kernelspec": {
   "display_name": "Python 2",
   "language": "python",
   "name": "python2"
  },
  "language_info": {
   "codemirror_mode": {
    "name": "ipython",
    "version": 2
   },
   "file_extension": ".py",
   "mimetype": "text/x-python",
   "name": "python",
   "nbconvert_exporter": "python",
   "pygments_lexer": "ipython2",
   "version": "2.7.10"
  }
 },
 "nbformat": 4,
 "nbformat_minor": 1
}
